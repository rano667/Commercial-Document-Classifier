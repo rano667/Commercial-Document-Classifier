{
  "nbformat": 4,
  "nbformat_minor": 0,
  "metadata": {
    "colab": {
      "provenance": []
    },
    "kernelspec": {
      "name": "python3",
      "display_name": "Python 3"
    },
    "language_info": {
      "name": "python"
    }
  },
  "cells": [
    {
      "cell_type": "code",
      "source": [
        "import pandas as pd\n",
        "\n",
        "df = pd.read_csv(\"/content/Commercial Doc Classification data.csv\")\n",
        "df.head()"
      ],
      "metadata": {
        "colab": {
          "base_uri": "https://localhost:8080/",
          "height": 206
        },
        "id": "UXgYOTk2bgmU",
        "outputId": "e026f2ca-e116-4836-b598-4031f0c0e5ea"
      },
      "execution_count": null,
      "outputs": [
        {
          "output_type": "execute_result",
          "data": {
            "text/plain": [
              "                                                   X  Y\n",
              "0  United Arab Emirates Saatall Aas yal) alley \\u...  0\n",
              "1  \\u2018DELIVERY ORDER\\n\\nGenerated using Dubai ...  0\n",
              "2  Wee\\n\\ni , DK09025040118\\nBILL- OF LADING (NOT...  0\n",
              "3  FH WTeAeKBReARAT\\n| Re ZHEJIANG SUPER POWER FI...  1\n",
              "4  A Wile AwBKR SARA A\\n\\nCHAO\\n\\nZHEJIANG SUPER ...  0"
            ],
            "text/html": [
              "\n",
              "  <div id=\"df-8668d1c6-c05f-40e9-a26b-4008cd850ab8\" class=\"colab-df-container\">\n",
              "    <div>\n",
              "<style scoped>\n",
              "    .dataframe tbody tr th:only-of-type {\n",
              "        vertical-align: middle;\n",
              "    }\n",
              "\n",
              "    .dataframe tbody tr th {\n",
              "        vertical-align: top;\n",
              "    }\n",
              "\n",
              "    .dataframe thead th {\n",
              "        text-align: right;\n",
              "    }\n",
              "</style>\n",
              "<table border=\"1\" class=\"dataframe\">\n",
              "  <thead>\n",
              "    <tr style=\"text-align: right;\">\n",
              "      <th></th>\n",
              "      <th>X</th>\n",
              "      <th>Y</th>\n",
              "    </tr>\n",
              "  </thead>\n",
              "  <tbody>\n",
              "    <tr>\n",
              "      <th>0</th>\n",
              "      <td>United Arab Emirates Saatall Aas yal) alley \\u...</td>\n",
              "      <td>0</td>\n",
              "    </tr>\n",
              "    <tr>\n",
              "      <th>1</th>\n",
              "      <td>\\u2018DELIVERY ORDER\\n\\nGenerated using Dubai ...</td>\n",
              "      <td>0</td>\n",
              "    </tr>\n",
              "    <tr>\n",
              "      <th>2</th>\n",
              "      <td>Wee\\n\\ni , DK09025040118\\nBILL- OF LADING (NOT...</td>\n",
              "      <td>0</td>\n",
              "    </tr>\n",
              "    <tr>\n",
              "      <th>3</th>\n",
              "      <td>FH WTeAeKBReARAT\\n| Re ZHEJIANG SUPER POWER FI...</td>\n",
              "      <td>1</td>\n",
              "    </tr>\n",
              "    <tr>\n",
              "      <th>4</th>\n",
              "      <td>A Wile AwBKR SARA A\\n\\nCHAO\\n\\nZHEJIANG SUPER ...</td>\n",
              "      <td>0</td>\n",
              "    </tr>\n",
              "  </tbody>\n",
              "</table>\n",
              "</div>\n",
              "    <div class=\"colab-df-buttons\">\n",
              "\n",
              "  <div class=\"colab-df-container\">\n",
              "    <button class=\"colab-df-convert\" onclick=\"convertToInteractive('df-8668d1c6-c05f-40e9-a26b-4008cd850ab8')\"\n",
              "            title=\"Convert this dataframe to an interactive table.\"\n",
              "            style=\"display:none;\">\n",
              "\n",
              "  <svg xmlns=\"http://www.w3.org/2000/svg\" height=\"24px\" viewBox=\"0 -960 960 960\">\n",
              "    <path d=\"M120-120v-720h720v720H120Zm60-500h600v-160H180v160Zm220 220h160v-160H400v160Zm0 220h160v-160H400v160ZM180-400h160v-160H180v160Zm440 0h160v-160H620v160ZM180-180h160v-160H180v160Zm440 0h160v-160H620v160Z\"/>\n",
              "  </svg>\n",
              "    </button>\n",
              "\n",
              "  <style>\n",
              "    .colab-df-container {\n",
              "      display:flex;\n",
              "      gap: 12px;\n",
              "    }\n",
              "\n",
              "    .colab-df-convert {\n",
              "      background-color: #E8F0FE;\n",
              "      border: none;\n",
              "      border-radius: 50%;\n",
              "      cursor: pointer;\n",
              "      display: none;\n",
              "      fill: #1967D2;\n",
              "      height: 32px;\n",
              "      padding: 0 0 0 0;\n",
              "      width: 32px;\n",
              "    }\n",
              "\n",
              "    .colab-df-convert:hover {\n",
              "      background-color: #E2EBFA;\n",
              "      box-shadow: 0px 1px 2px rgba(60, 64, 67, 0.3), 0px 1px 3px 1px rgba(60, 64, 67, 0.15);\n",
              "      fill: #174EA6;\n",
              "    }\n",
              "\n",
              "    .colab-df-buttons div {\n",
              "      margin-bottom: 4px;\n",
              "    }\n",
              "\n",
              "    [theme=dark] .colab-df-convert {\n",
              "      background-color: #3B4455;\n",
              "      fill: #D2E3FC;\n",
              "    }\n",
              "\n",
              "    [theme=dark] .colab-df-convert:hover {\n",
              "      background-color: #434B5C;\n",
              "      box-shadow: 0px 1px 3px 1px rgba(0, 0, 0, 0.15);\n",
              "      filter: drop-shadow(0px 1px 2px rgba(0, 0, 0, 0.3));\n",
              "      fill: #FFFFFF;\n",
              "    }\n",
              "  </style>\n",
              "\n",
              "    <script>\n",
              "      const buttonEl =\n",
              "        document.querySelector('#df-8668d1c6-c05f-40e9-a26b-4008cd850ab8 button.colab-df-convert');\n",
              "      buttonEl.style.display =\n",
              "        google.colab.kernel.accessAllowed ? 'block' : 'none';\n",
              "\n",
              "      async function convertToInteractive(key) {\n",
              "        const element = document.querySelector('#df-8668d1c6-c05f-40e9-a26b-4008cd850ab8');\n",
              "        const dataTable =\n",
              "          await google.colab.kernel.invokeFunction('convertToInteractive',\n",
              "                                                    [key], {});\n",
              "        if (!dataTable) return;\n",
              "\n",
              "        const docLinkHtml = 'Like what you see? Visit the ' +\n",
              "          '<a target=\"_blank\" href=https://colab.research.google.com/notebooks/data_table.ipynb>data table notebook</a>'\n",
              "          + ' to learn more about interactive tables.';\n",
              "        element.innerHTML = '';\n",
              "        dataTable['output_type'] = 'display_data';\n",
              "        await google.colab.output.renderOutput(dataTable, element);\n",
              "        const docLink = document.createElement('div');\n",
              "        docLink.innerHTML = docLinkHtml;\n",
              "        element.appendChild(docLink);\n",
              "      }\n",
              "    </script>\n",
              "  </div>\n",
              "\n",
              "\n",
              "    <div id=\"df-18123684-30ad-4678-9607-da56bcbe1750\">\n",
              "      <button class=\"colab-df-quickchart\" onclick=\"quickchart('df-18123684-30ad-4678-9607-da56bcbe1750')\"\n",
              "                title=\"Suggest charts\"\n",
              "                style=\"display:none;\">\n",
              "\n",
              "<svg xmlns=\"http://www.w3.org/2000/svg\" height=\"24px\"viewBox=\"0 0 24 24\"\n",
              "     width=\"24px\">\n",
              "    <g>\n",
              "        <path d=\"M19 3H5c-1.1 0-2 .9-2 2v14c0 1.1.9 2 2 2h14c1.1 0 2-.9 2-2V5c0-1.1-.9-2-2-2zM9 17H7v-7h2v7zm4 0h-2V7h2v10zm4 0h-2v-4h2v4z\"/>\n",
              "    </g>\n",
              "</svg>\n",
              "      </button>\n",
              "\n",
              "<style>\n",
              "  .colab-df-quickchart {\n",
              "      --bg-color: #E8F0FE;\n",
              "      --fill-color: #1967D2;\n",
              "      --hover-bg-color: #E2EBFA;\n",
              "      --hover-fill-color: #174EA6;\n",
              "      --disabled-fill-color: #AAA;\n",
              "      --disabled-bg-color: #DDD;\n",
              "  }\n",
              "\n",
              "  [theme=dark] .colab-df-quickchart {\n",
              "      --bg-color: #3B4455;\n",
              "      --fill-color: #D2E3FC;\n",
              "      --hover-bg-color: #434B5C;\n",
              "      --hover-fill-color: #FFFFFF;\n",
              "      --disabled-bg-color: #3B4455;\n",
              "      --disabled-fill-color: #666;\n",
              "  }\n",
              "\n",
              "  .colab-df-quickchart {\n",
              "    background-color: var(--bg-color);\n",
              "    border: none;\n",
              "    border-radius: 50%;\n",
              "    cursor: pointer;\n",
              "    display: none;\n",
              "    fill: var(--fill-color);\n",
              "    height: 32px;\n",
              "    padding: 0;\n",
              "    width: 32px;\n",
              "  }\n",
              "\n",
              "  .colab-df-quickchart:hover {\n",
              "    background-color: var(--hover-bg-color);\n",
              "    box-shadow: 0 1px 2px rgba(60, 64, 67, 0.3), 0 1px 3px 1px rgba(60, 64, 67, 0.15);\n",
              "    fill: var(--button-hover-fill-color);\n",
              "  }\n",
              "\n",
              "  .colab-df-quickchart-complete:disabled,\n",
              "  .colab-df-quickchart-complete:disabled:hover {\n",
              "    background-color: var(--disabled-bg-color);\n",
              "    fill: var(--disabled-fill-color);\n",
              "    box-shadow: none;\n",
              "  }\n",
              "\n",
              "  .colab-df-spinner {\n",
              "    border: 2px solid var(--fill-color);\n",
              "    border-color: transparent;\n",
              "    border-bottom-color: var(--fill-color);\n",
              "    animation:\n",
              "      spin 1s steps(1) infinite;\n",
              "  }\n",
              "\n",
              "  @keyframes spin {\n",
              "    0% {\n",
              "      border-color: transparent;\n",
              "      border-bottom-color: var(--fill-color);\n",
              "      border-left-color: var(--fill-color);\n",
              "    }\n",
              "    20% {\n",
              "      border-color: transparent;\n",
              "      border-left-color: var(--fill-color);\n",
              "      border-top-color: var(--fill-color);\n",
              "    }\n",
              "    30% {\n",
              "      border-color: transparent;\n",
              "      border-left-color: var(--fill-color);\n",
              "      border-top-color: var(--fill-color);\n",
              "      border-right-color: var(--fill-color);\n",
              "    }\n",
              "    40% {\n",
              "      border-color: transparent;\n",
              "      border-right-color: var(--fill-color);\n",
              "      border-top-color: var(--fill-color);\n",
              "    }\n",
              "    60% {\n",
              "      border-color: transparent;\n",
              "      border-right-color: var(--fill-color);\n",
              "    }\n",
              "    80% {\n",
              "      border-color: transparent;\n",
              "      border-right-color: var(--fill-color);\n",
              "      border-bottom-color: var(--fill-color);\n",
              "    }\n",
              "    90% {\n",
              "      border-color: transparent;\n",
              "      border-bottom-color: var(--fill-color);\n",
              "    }\n",
              "  }\n",
              "</style>\n",
              "\n",
              "      <script>\n",
              "        async function quickchart(key) {\n",
              "          const quickchartButtonEl =\n",
              "            document.querySelector('#' + key + ' button');\n",
              "          quickchartButtonEl.disabled = true;  // To prevent multiple clicks.\n",
              "          quickchartButtonEl.classList.add('colab-df-spinner');\n",
              "          try {\n",
              "            const charts = await google.colab.kernel.invokeFunction(\n",
              "                'suggestCharts', [key], {});\n",
              "          } catch (error) {\n",
              "            console.error('Error during call to suggestCharts:', error);\n",
              "          }\n",
              "          quickchartButtonEl.classList.remove('colab-df-spinner');\n",
              "          quickchartButtonEl.classList.add('colab-df-quickchart-complete');\n",
              "        }\n",
              "        (() => {\n",
              "          let quickchartButtonEl =\n",
              "            document.querySelector('#df-18123684-30ad-4678-9607-da56bcbe1750 button');\n",
              "          quickchartButtonEl.style.display =\n",
              "            google.colab.kernel.accessAllowed ? 'block' : 'none';\n",
              "        })();\n",
              "      </script>\n",
              "    </div>\n",
              "\n",
              "    </div>\n",
              "  </div>\n"
            ],
            "application/vnd.google.colaboratory.intrinsic+json": {
              "type": "dataframe",
              "variable_name": "df",
              "summary": "{\n  \"name\": \"df\",\n  \"rows\": 6,\n  \"fields\": [\n    {\n      \"column\": \"X\",\n      \"properties\": {\n        \"dtype\": \"string\",\n        \"num_unique_values\": 6,\n        \"samples\": [\n          \"United Arab Emirates Saatall Aas yal) alley \\\\u2018ih\\\\nPage 1-of 41 UAE Customs i key) Blea\\\\n\\\\nDubai Customs est Alem Cah Lad Eh lam\\\\nUAE CUSTOMS\\\\n\\\\nPORTTYPE esi 4| [DEC TYPE owes 3| [DEC DATE cea 2|[DECNO owls 1\\\\nSEA \\\\\\\"02/08/2026 101-27076169-25 |\\\\nCustoms Declaration Import to Local from ROW 141115692858 (se Olen\\\\nNET WEIGHT geile C5 ll IMPORTER / EXPORTER sHaddifo,sueat] 6 | [DELIVERY ORDER NO. atu ON 8 | 5 |\\\\n44670 (kg) AE-3002412 - EMIRATES FIRE FIGHTING EQUIRIMENT FACTORY LLC (I - E0812)\\\\nGROSS WEIGHT eta cist [10] [INTERCESSOR CO. Abwasit 4st] 9 | [ CARRIER'S \\\\\\\\ CAPTAIN \\\\\\\\ DRIVER Sts/uaaiacun| 8 |\\\\n46520 (kg) AE-1054554 - EMIRATES SHIPPING LINE LLC\\\\nMEASUREMENT wt |13] [ COMMERCIAL REG. No. Aoi deat! 34/12] [ CARRIER'S NAME amu au} | 71]\\\\n1796 ESL WASL\\\\nNO.OF PACKAGES ashi se [16] | TIN No. gai 98/124] [ VOYAGE/ FLIGHT No. Ala [14 |\\\\n100216316400003 935133\\\\nMARKS & NUMBERS EXPORTED TO 4a jaa] 15 | [B\\\\\\\\L- AWB No./ MANIF. Cobliadt/Ancosd galt a 117 |\\\\n\\\\nFIREX, FIREX EMIVCHNNINO15220\\\\n\\\\nPORT OF LOADING Daal pga\\\\nNINGBO\\\\n\\\\nPORT OF DISCHARGE @e0Kl elie\\\\nJEBEL ALI\\\\n\\\\nDESTINATION chal Aga] 21\\\\n\\\\n18\\\\n\\\\nLoc: JEBEL ALI\\\\nPR-00003/DUBAI PORTS WORLD FACILITY\\\\n\\\\nContainer Nos:ESDU1226951, ESDU1231027\\\\n\\\\n31 23\\\\nasl glleal | - 4 Jasin\\\\u2019 ine Aelia wines\\\\nTOTAL DUTY 3 GOODS DESCRIPTION\\\\n\\\\nFIRE FIGHTING EQUIPMEN | 84241000\\\\n\\\\nols ITEM ctu | PACKAGES 49 plat CUSTOMS. RESTRICTIONS 415 ,a0!! o eal\\\\n\\\\n36 35 34 33 32 40\\\\net Samy Anes gall 4AaeSSt cel) Ra agai\\\\nET UNIT QTY TYPE OTY RELEASE REF. AGENCY\\\\n\\\\n=\\\\nI\\\\n|\\\\n|\\\\nI\\\\nI\\\\nI\\\\nI\\\\nI\\\\nI\\\\nI\\\\n|\\\\nI\\\\n\\\\niele Yi Say\\\\nEXEMPTION OF DUTY CODE\\\\n\\\\nPAED A [DUTY er) CLEARING AGENT goa eal] 38 | | [UNIFIED CUSTOMS CODE +2071, fo =\\\\n8741 TOTAL DUTY S95 ppusil aa |g] AE-1131367 1\\\\nee Hcaal) Zugi in [48a AIS C MIDDLE EAST CARGO SERVICES L.ILi6 _\\\\n\\\\n| [LIGENCE No. twod Mats [39 |\\\\n\\\\nPCIE TAX aytia 4y.20/48B\\\\npan Dug taco fae\\\\nPHANG sta pus] 49 |\\\\n195s [OTHER CHARGES a8! pes\\\\n\\\\nDEFINITE 8836 eth 54\\\\n\\\\nINSURED coeali\\\\n\\\\n[FOB] FRT: 8124.60 INS: 1730.91,\\\\nTotal Value: 164966.31\\\\n\\\\nPAYMENT METHOD\\\\nNo DUTY 6741,00 [11012510] CA-1051057\\\\n\\\\n. RGCH 70.00 (1 10125 1 1) CA-105 1057\\\\nKDID 20,00 [11012511] CA-1051057\\\\nARCH 5,00 [11012510] CA-1051057\\\\n\\\\n47\\\\nFag wall Alaa) jay\\\\nQR Code\\\\n\\\\nWLP\\\\n\\\\nimranaisc 02/05/2025\\\\n\",\n          \"\\\\u2018DELIVERY ORDER\\\\n\\\\nGenerated using Dubai Trade Digital Delivery Order\\\\n\\\\nDO Number :\\\\n\\\\n2500408147 Date: 01-MAY-2025\\\\n| Agent DO > NINO15220 Valid: 13-MAY-2025\\\\n(MRN. - 4703157. tit\\\\u00ab*\\\\u00ab | Rotation 935133\\\\n\\\\nShipping Agent : A1847__ EMIRATES SHIPPING LINE (L.L.c) | Arrival Date 29-APR-2025\\\\n\\\\nE0812 EMIRATES FIRE FIGHTING EQUIPMENT\\\\n\\\\nConsignee EA | Clearance Port : JEBEL ALI\\\\nClearing Agent : | DO Status ACTIVE\\\\nVessel Name : ESL WASL | NOC Details :\\\\nVoyage : 02514E Exit Point : ;\\\\nDischarge Port : AEJEA : | Dest Port\\\\n\\\\u201cBOLS PackageType Quantity == Weight += Volume\\\\nEMIVCHNNINO15220 CARTONS 2530 46520 oO\\\\nMarks and Numbers: FIREX :\\\\n\\\\nContainers\\\\n\\\\nESDU122695, ESDU123102\\\\n\\\\nGoods Description\\\\n\\\\nFIRE FIGHTING EQUIPMENT (FIRE EXTINGUISHERS) H.S. CODE:84241000\\\\n\\\\nRemarks\\\\n\\\\nUser ID\\\\n\\\\nWe declare the details he\\\\n\\\\nrein to be true and complete.\\\\n\\\\nImporter / Agent Stamp & Sign.\\\\nDate\\\\n\\\\n\",\n          \"ORIGINAL\\\\n: aa \\\\u201cSerial No. \\\\u2014 CCPIT3492500032547\\\\n\\\\n\\\\u2018ZHEJIANG SUPER POWER FIRE FIGHTING EQUIPMENT CO.,LTD =. | Ses :\\\\nCHIXI INDUSTRIAL PARK LANXI CITY,ZHEJIANG PROVINCE, CHINA~ \\\\u2014- - | =Certificate No: 25C3307A5334/00002\\\\n\\\\n= CERTIFICATE OF ORIGIN\\\\n2,Consignee = \\\\u201c 4 ape ~ OF\\\\nEMIRATES FIRE FIGHTING EQUIPMENT FACTORY LLC, : Fe Certificate =\\\\n\\\\u201cPO; BOX: 22436, SHARJAH; UAE of >f Origin THE PEOPLE'S REPUBLIC OF CHINA\\\\n\\\\u201cTEL: +97 1-6-5340300 ,\\\\n\\\\u201cFAX: +971-6-5340090\\\\nTRN'NO.: 100216318400003\\\\n\\\\n-3,\\\\\\\\Means of tansbort and route = Siforcerti ng -autharity use only\\\\n\\\\nICHINA COUNCIL FOR THE\\\\n\\\\n! PROMOTION OF INTERNATIONAL |\\\\n| TRADES CHINA CHAMBER OF\\\\n\\\\nPINTERNATIONAL COMMERCE\\\\n\\\\nFROM NINGBO PORT, -GETINA TO TREE ALI UNITED ARAB EMIRATES BY SEA\\\\n\\\\n4.Country / region of-destination\\\\nUNITED ARAB: EMIRATES\\\\n\\\\n\\\\u201c8.1.8 Code '~-9 Quantity ; 40.Number\\\\n\\\\u2014and date of\\\\ninvoices\\\\n\\\\nONE THOUSAND-THREE HUNDRED AND SIXTY (1360) \\\\u00a2 CARTONS OF) 8424100000 1360 PCS : \\\\u201c CLC24011013A\\\\n5KG FIRE FIGHTING EQUIPMENRIBESASINGUISH ERS) HS CODE: : G:WEIGHT : MAR.27,2025 ~~\\\\n~84241000 va 23120 KGS\\\\n\\\\nONE THOUSAND ONE HUNDRED AND: SEVENTY (1170). CARTONS 8424100000 \\\\u201c|, 1170: PCS\\\\nOF-6KG FIRE FIGHTING EQUIEMEN TIEIRE: EXTINGUISHERS) HS 7 - - G.WEIGHT\\\\nCODE: 84241000 : '23400 KGS-\\\\n\\\\nREMARKS:\\\\n1, DESCRIPTION OF GOODS AND/OR SERVICE:\\\\n\\\\n- - +FIRE FIGHTING EQUIPMENT(FIRE EXTINGU BEERS S'GODE\\\\n\\\\n> 84241000 ; a\\\\n+ORIGIN: CHINA =\\\\n+INCOTERMS 2020: FOB, NINGBO PORT IN CHINA\\\\n\\\\n=~ 2.AS PER BENEFICIARYS PROFORMA INVOICE NO. CLC24611013A-,\\\\n\\\\n-\\\\u2014 \\\\u201cDATED 25.MAR,2025~ =|\\\\n3. APPLICANT TAX REGISTRATION NUMBER 100216318400003 =\\\\n4. NAME AND ADDRESS OF MANUFACTURER/PRODUCER;:: \\\\u2014 ==>\\\\nZHEJIANG SUPER POWER FIRE FIGHTING EQUIPMENT CO., LTD\\\\n\\\\u2014CHIXI INDUSTRIAL PARK, LANXI CITY, ZHEJIANG PROVINCE; CHINA\\\\n5. LENO.: 918152500315 \\\\u2014\\\\u2014\\\\n\\\\n1;Declaration by the exporter 42. Certification\\\\n= The undersigned hereby declares that the above details and statements are \\\\u201c~ It is hereby certified that the declaration by the exporter is correct.\\\\norrect; that all the goods were produced in China and that they comply. with the : . < \\\\u2018\\\\n\\\\nRules of. ASAE of the People's Republic of China.\\\\n\\\\nSees Ss \\\\\\\\s <a 8 # ieee >\\\\nmica rxweamar \\\\u2014 | Coc cype, Coke en.\\\\nTHEJIANG SUPER POWER FIRE FIGHTING, | NS ar is: \\\\u00a309 THE PROMOTION\\\\nEQUIPMEN \\\\u201cTp | y! Fy \\\\u2122 OH oe TRADE\\\\n| en doi as\\\\n\\\\n: = EL 106 79-82468447\\\\n\\\\nJINHUA.CHINA APR.08,2025 : \\\\u2018ES \\\\u201cJINHUA, CHINA APR.08,2025\\\\n\\\\nPlace and date, signature and stamp of authorized signatory = \\\\u2018Place and date: signature and stamp of certifying authority\\\\n\\\\nPage 1 of 1\\\\n\"\n        ],\n        \"semantic_type\": \"\",\n        \"description\": \"\"\n      }\n    },\n    {\n      \"column\": \"Y\",\n      \"properties\": {\n        \"dtype\": \"number\",\n        \"std\": 0,\n        \"min\": 0,\n        \"max\": 1,\n        \"num_unique_values\": 2,\n        \"samples\": [\n          1,\n          0\n        ],\n        \"semantic_type\": \"\",\n        \"description\": \"\"\n      }\n    }\n  ]\n}"
            }
          },
          "metadata": {},
          "execution_count": 1
        }
      ]
    },
    {
      "cell_type": "code",
      "source": [
        "# Step 1: Prepare data\n",
        "X = df[\"X\"].str.lower().str.replace(r\"\\\\n\", \" \", regex=True).str.replace(r\"\\\\u[\\dA-Fa-f]+\", \" \", regex=True)\n",
        "y = df[\"Y\"]"
      ],
      "metadata": {
        "id": "H8vXrkshbvOb"
      },
      "execution_count": null,
      "outputs": []
    },
    {
      "cell_type": "code",
      "source": [
        "X[0]"
      ],
      "metadata": {
        "colab": {
          "base_uri": "https://localhost:8080/",
          "height": 122
        },
        "id": "tmOp1Cv2bvLN",
        "outputId": "da67895f-0841-45cd-c7ae-7ca3a32f51f1"
      },
      "execution_count": null,
      "outputs": [
        {
          "output_type": "execute_result",
          "data": {
            "text/plain": [
              "'united arab emirates saatall aas yal) alley  ih page 1-of 41 uae customs i key) blea  dubai customs est alem cah lad eh lam uae customs  porttype esi 4| [dec type owes 3| [dec date cea 2|[decno owls 1 sea \\\\\"02/08/2026 101-27076169-25 | customs declaration import to local from row 141115692858 (se olen net weight geile c5 ll importer / exporter shaddifo,sueat] 6 | [delivery order no. atu on 8 | 5 | 44670 (kg) ae-3002412 - emirates fire fighting equiriment factory llc (i - e0812) gross weight eta cist [10] [intercessor co. abwasit 4st] 9 | [ carrier\\'s \\\\\\\\ captain \\\\\\\\ driver sts/uaaiacun| 8 | 46520 (kg) ae-1054554 - emirates shipping line llc measurement wt |13] [ commercial reg. no. aoi deat! 34/12] [ carrier\\'s name amu au} | 71] 1796 esl wasl no.of packages ashi se [16] | tin no. gai 98/124] [ voyage/ flight no. ala [14 | 100216316400003 935133 marks & numbers exported to 4a jaa] 15 | [b\\\\\\\\l- awb no./ manif. cobliadt/ancosd galt a 117 |  firex, firex emivchnnino15220  port of loading daal pga ningbo  port of discharge @e0kl elie jebel ali  destination chal aga] 21  18  loc: jebel ali pr-00003/dubai ports world facility  container nos:esdu1226951, esdu1231027  31 23 asl glleal | - 4 jasin  ine aelia wines total duty 3 goods description  fire fighting equipmen | 84241000  ols item ctu | packages 49 plat customs. restrictions 415 ,a0!! o eal  36 35 34 33 32 40 et samy anes gall 4aaesst cel) ra agai et unit qty type oty release ref. agency  = i | | i i i i i i i | i  iele yi say exemption of duty code  paed a [duty er) clearing agent goa eal] 38 | | [unified customs code +2071, fo = 8741 total duty s95 ppusil aa |g] ae-1131367 1 ee hcaal) zugi in [48a ais c middle east cargo services l.ili6 _  | [ligence no. twod mats [39 |  pcie tax aytia 4y.20/48b pan dug taco fae phang sta pus] 49 | 195s [other charges a8! pes  definite 8836 eth 54  insured coeali  [fob] frt: 8124.60 ins: 1730.91, total value: 164966.31  payment method no duty 6741,00 [11012510] ca-1051057  . rgch 70.00 (1 10125 1 1) ca-105 1057 kdid 20,00 [11012511] ca-1051057 arch 5,00 [11012510] ca-1051057  47 fag wall alaa) jay qr code  wlp  imranaisc 02/05/2025 '"
            ],
            "application/vnd.google.colaboratory.intrinsic+json": {
              "type": "string"
            }
          },
          "metadata": {},
          "execution_count": 3
        }
      ]
    },
    {
      "cell_type": "code",
      "source": [
        "# Step 2: Split data (even though it's small, to simulate real-world pipeline)\n",
        "X_train, X_test, y_train, y_test = train_test_split(X, y, test_size=0.2, random_state=42)\n",
        "\n",
        "# Step 3: Create pipeline\n",
        "pipeline = Pipeline([\n",
        "    (\"tfidf\", TfidfVectorizer(max_features=20, stop_words=\"english\")),\n",
        "    (\"clf\", DecisionTreeClassifier(max_depth=3, random_state=42))\n",
        "])"
      ],
      "metadata": {
        "id": "Wiewq7PBbvHk"
      },
      "execution_count": null,
      "outputs": []
    },
    {
      "cell_type": "code",
      "source": [],
      "metadata": {
        "id": "tnxm-p_kbvEc"
      },
      "execution_count": null,
      "outputs": []
    },
    {
      "cell_type": "code",
      "execution_count": null,
      "metadata": {
        "colab": {
          "base_uri": "https://localhost:8080/",
          "height": 35
        },
        "id": "iuZD6sz8bLNM",
        "outputId": "887c8115-890b-4fea-c790-2340a428c6a3"
      },
      "outputs": [
        {
          "output_type": "execute_result",
          "data": {
            "text/plain": [
              "'|--- 2025 <= 0.15\\n|   |--- class: 1\\n|--- 2025 >  0.15\\n|   |--- class: 0\\n'"
            ],
            "application/vnd.google.colaboratory.intrinsic+json": {
              "type": "string"
            }
          },
          "metadata": {},
          "execution_count": 4
        }
      ],
      "source": [
        "from sklearn.feature_extraction.text import TfidfVectorizer\n",
        "from sklearn.tree import DecisionTreeClassifier, export_text\n",
        "from sklearn.pipeline import Pipeline\n",
        "from sklearn.model_selection import train_test_split\n",
        "\n",
        "# # Step 1: Prepare data\n",
        "# X = df[\"X\"].str.lower().str.replace(r\"\\\\n\", \" \", regex=True).str.replace(r\"\\\\u[\\dA-Fa-f]+\", \" \", regex=True)\n",
        "# y = df[\"Y\"]\n",
        "\n",
        "# Step 2: Split data (even though it's small, to simulate real-world pipeline)\n",
        "X_train, X_test, y_train, y_test = train_test_split(X, y, test_size=0.2, random_state=42)\n",
        "\n",
        "# Step 3: Create pipeline\n",
        "pipeline = Pipeline([\n",
        "    (\"tfidf\", TfidfVectorizer(max_features=20, stop_words=\"english\")),\n",
        "    (\"clf\", DecisionTreeClassifier(max_depth=3, random_state=42))\n",
        "])\n",
        "\n",
        "# Step 4: Train model\n",
        "pipeline.fit(X_train, y_train)\n",
        "\n",
        "# Step 5: Extract rules\n",
        "vectorizer = pipeline.named_steps[\"tfidf\"]\n",
        "classifier = pipeline.named_steps[\"clf\"]\n",
        "feature_names = vectorizer.get_feature_names_out()\n",
        "rules = export_text(classifier, feature_names=list(feature_names))\n",
        "\n",
        "rules\n"
      ]
    },
    {
      "cell_type": "code",
      "source": [
        "# Re-import necessary packages after code execution state reset\n",
        "import pandas as pd\n",
        "import re\n",
        "from sklearn.feature_extraction.text import TfidfVectorizer\n",
        "from sklearn.tree import DecisionTreeClassifier, export_text\n",
        "from sklearn.pipeline import Pipeline\n",
        "from sklearn.model_selection import train_test_split\n",
        "\n",
        "# # Reload the dataset\n",
        "# file_path = \"/mnt/data/Commercial Doc Classification data.csv\"\n",
        "# df = pd.read_csv(file_path)\n",
        "\n",
        "# Define the cleaning function again\n",
        "def clean_text(text):\n",
        "    text = text.lower()\n",
        "    text = re.sub(r\"\\\\n\", \" \", text)\n",
        "    text = re.sub(r\"\\\\u[\\dA-Fa-f]+\", \" \", text)\n",
        "    text = re.sub(r\"[^\\w\\s]\", \" \", text)\n",
        "    text = re.sub(r\"\\d+\", \" \", text)\n",
        "    text = re.sub(r\"\\s+\", \" \", text).strip()\n",
        "    return text\n",
        "\n",
        "# Apply cleaning\n",
        "X_cleaned = df[\"X\"].apply(clean_text)\n",
        "y = df[\"Y\"]\n",
        "\n",
        "# Split data\n",
        "X_train, X_test, y_train, y_test = train_test_split(X_cleaned, y, test_size=0.2, random_state=42)\n",
        "\n",
        "# Create and train pipeline\n",
        "pipeline_cleaned = Pipeline([\n",
        "    (\"tfidf\", TfidfVectorizer(max_features=20, stop_words=\"english\")),\n",
        "    (\"clf\", DecisionTreeClassifier(max_depth=3, random_state=42))\n",
        "])\n",
        "\n",
        "pipeline_cleaned.fit(X_train, y_train)\n",
        "\n",
        "# Extract rules\n",
        "vectorizer_cleaned = pipeline_cleaned.named_steps[\"tfidf\"]\n",
        "classifier_cleaned = pipeline_cleaned.named_steps[\"clf\"]\n",
        "feature_names_cleaned = vectorizer_cleaned.get_feature_names_out()\n",
        "rules_cleaned = export_text(classifier_cleaned, feature_names=list(feature_names_cleaned))\n",
        "\n",
        "rules_cleaned\n"
      ],
      "metadata": {
        "colab": {
          "base_uri": "https://localhost:8080/",
          "height": 35
        },
        "id": "69ntzJQie5Ij",
        "outputId": "8327ea2a-639d-4579-b08e-6226b083d530"
      },
      "execution_count": null,
      "outputs": [
        {
          "output_type": "execute_result",
          "data": {
            "text/plain": [
              "'|--- fighting <= 0.24\\n|   |--- class: 1\\n|--- fighting >  0.24\\n|   |--- class: 0\\n'"
            ],
            "application/vnd.google.colaboratory.intrinsic+json": {
              "type": "string"
            }
          },
          "metadata": {},
          "execution_count": 5
        }
      ]
    },
    {
      "cell_type": "code",
      "source": [
        "X_cleaned[0]"
      ],
      "metadata": {
        "colab": {
          "base_uri": "https://localhost:8080/",
          "height": 122
        },
        "id": "PbRVprIffKfy",
        "outputId": "93d31ec1-a4f8-4096-c260-8ac9dec213ed"
      },
      "execution_count": null,
      "outputs": [
        {
          "output_type": "execute_result",
          "data": {
            "text/plain": [
              "'united arab emirates saatall aas yal alley ih page of uae customs i key blea dubai customs est alem cah lad eh lam uae customs porttype esi dec type owes dec date cea decno owls sea customs declaration import to local from row se olen net weight geile c ll importer exporter shaddifo sueat delivery order no atu on kg ae emirates fire fighting equiriment factory llc i e gross weight eta cist intercessor co abwasit st carrier s captain driver sts uaaiacun kg ae emirates shipping line llc measurement wt commercial reg no aoi deat carrier s name amu au esl wasl no of packages ashi se tin no gai voyage flight no ala marks numbers exported to a jaa b l awb no manif cobliadt ancosd galt a firex firex emivchnnino port of loading daal pga ningbo port of discharge e kl elie jebel ali destination chal aga loc jebel ali pr dubai ports world facility container nos esdu esdu asl glleal jasin ine aelia wines total duty goods description fire fighting equipmen ols item ctu packages plat customs restrictions a o eal et samy anes gall aaesst cel ra agai et unit qty type oty release ref agency i i i i i i i i i iele yi say exemption of duty code paed a duty er clearing agent goa eal unified customs code fo total duty s ppusil aa g ae ee hcaal zugi in a ais c middle east cargo services l ili _ ligence no twod mats pcie tax aytia y b pan dug taco fae phang sta pus s other charges a pes definite eth insured coeali fob frt ins total value payment method no duty ca rgch ca kdid ca arch ca fag wall alaa jay qr code wlp imranaisc'"
            ],
            "application/vnd.google.colaboratory.intrinsic+json": {
              "type": "string"
            }
          },
          "metadata": {},
          "execution_count": 6
        }
      ]
    },
    {
      "cell_type": "markdown",
      "source": [
        "the data quality improved!!!"
      ],
      "metadata": {
        "id": "c0_mWzAPfQ7D"
      }
    },
    {
      "cell_type": "code",
      "source": [
        "# Step 1: Get TF-IDF feature importance (top 20 features)\n",
        "import numpy as np\n",
        "\n",
        "# Get TF-IDF matrix for training data\n",
        "tfidf_vectorizer = pipeline_cleaned.named_steps[\"tfidf\"]\n",
        "X_train_tfidf = tfidf_vectorizer.transform(X_train)\n",
        "feature_names = tfidf_vectorizer.get_feature_names_out()\n",
        "\n",
        "# Get feature importances from the decision tree\n",
        "importances = pipeline_cleaned.named_steps[\"clf\"].feature_importances_\n",
        "top_indices = np.argsort(importances)[::-1]\n",
        "\n",
        "# Pair features with their importance scores\n",
        "top_features = [(feature_names[i], importances[i]) for i in top_indices if importances[i] > 0]\n",
        "\n",
        "# Step 2: Run prediction on the full dataset to identify misclassifications\n",
        "df[\"cleaned_text\"] = X_cleaned\n",
        "df[\"predicted\"] = pipeline_cleaned.predict(X_cleaned)\n",
        "df[\"correct\"] = df[\"predicted\"] == df[\"Y\"]\n",
        "\n",
        "(top_features, df[[\"X\", \"Y\", \"predicted\", \"correct\"]])"
      ],
      "metadata": {
        "colab": {
          "base_uri": "https://localhost:8080/"
        },
        "id": "bqzGdibyfLuD",
        "outputId": "004d27c9-42d6-4f95-ef70-8f3049a0c6b7"
      },
      "execution_count": null,
      "outputs": [
        {
          "output_type": "execute_result",
          "data": {
            "text/plain": [
              "([('fighting', np.float64(1.0))],\n",
              "                                                    X  Y  predicted  correct\n",
              " 0  United Arab Emirates Saatall Aas yal) alley \\u...  0          0     True\n",
              " 1  \\u2018DELIVERY ORDER\\n\\nGenerated using Dubai ...  0          0     True\n",
              " 2  Wee\\n\\ni , DK09025040118\\nBILL- OF LADING (NOT...  0          0     True\n",
              " 3  FH WTeAeKBReARAT\\n| Re ZHEJIANG SUPER POWER FI...  1          1     True\n",
              " 4  A Wile AwBKR SARA A\\n\\nCHAO\\n\\nZHEJIANG SUPER ...  0          0     True\n",
              " 5  ORIGINAL\\n: aa \\u201cSerial No. \\u2014 CCPIT34...  0          0     True)"
            ]
          },
          "metadata": {},
          "execution_count": 7
        }
      ]
    },
    {
      "cell_type": "code",
      "source": [
        "import pandas as pd\n",
        "import re\n",
        "from sklearn.feature_extraction.text import TfidfVectorizer\n",
        "from sklearn.tree import DecisionTreeClassifier, export_text\n",
        "from sklearn.pipeline import Pipeline\n",
        "from sklearn.model_selection import train_test_split\n",
        "\n",
        "# Load your CSV\n",
        "df = pd.read_csv(\"Commercial Doc Classification data.csv\")  # Adjust path if needed\n",
        "\n",
        "# Text cleaning function\n",
        "def clean_text(text):\n",
        "    text = text.lower()\n",
        "    text = re.sub(r\"\\\\n\", \" \", text)\n",
        "    text = re.sub(r\"\\\\u[\\dA-Fa-f]+\", \" \", text)\n",
        "    text = re.sub(r\"[^\\w\\s]\", \" \", text)  # Remove punctuation\n",
        "    text = re.sub(r\"\\d+\", \" \", text)  # Optional: remove numbers\n",
        "    text = re.sub(r\"\\s+\", \" \", text).strip()\n",
        "    return text\n",
        "\n",
        "# Apply cleaning\n",
        "df[\"cleaned_text\"] = df[\"X\"].apply(clean_text)\n",
        "X = df[\"cleaned_text\"]\n",
        "y = df[\"Y\"]\n",
        "\n",
        "# Train/test split\n",
        "X_train, X_test, y_train, y_test = train_test_split(X, y, test_size=0.2, random_state=42)\n",
        "\n",
        "# Create pipeline with more features and deeper tree\n",
        "pipeline = Pipeline([\n",
        "    (\"tfidf\", TfidfVectorizer(max_features=50, stop_words=\"english\")),\n",
        "    (\"clf\", DecisionTreeClassifier(max_depth=5, random_state=42))\n",
        "])\n",
        "\n",
        "# Train model\n",
        "pipeline.fit(X_train, y_train)\n",
        "\n",
        "# Extract decision tree rules\n",
        "vectorizer = pipeline.named_steps[\"tfidf\"]\n",
        "classifier = pipeline.named_steps[\"clf\"]\n",
        "feature_names = vectorizer.get_feature_names_out()\n",
        "\n",
        "# Print the tree as readable text\n",
        "rules = export_text(classifier, feature_names=list(feature_names))\n",
        "print(rules)"
      ],
      "metadata": {
        "colab": {
          "base_uri": "https://localhost:8080/"
        },
        "id": "YFmdisXhhA0z",
        "outputId": "11e1a296-fc3b-4e34-9d3d-e1450434ddff"
      },
      "execution_count": null,
      "outputs": [
        {
          "output_type": "stream",
          "name": "stdout",
          "text": [
            "|--- port <= 0.13\n",
            "|   |--- class: 0\n",
            "|--- port >  0.13\n",
            "|   |--- class: 1\n",
            "\n"
          ]
        }
      ]
    },
    {
      "cell_type": "code",
      "source": [
        "df[\"predicted\"] = pipeline.predict(X)\n",
        "df[\"correct\"] = df[\"predicted\"] == df[\"Y\"]\n",
        "\n",
        "# View misclassified rows\n",
        "print(df[df[\"correct\"] == False][[\"X\", \"Y\", \"predicted\"]])"
      ],
      "metadata": {
        "colab": {
          "base_uri": "https://localhost:8080/"
        },
        "id": "OHyreBQQh7iC",
        "outputId": "046e6b4e-27cd-4a38-dd91-8d9848fa1001"
      },
      "execution_count": null,
      "outputs": [
        {
          "output_type": "stream",
          "name": "stdout",
          "text": [
            "                                                   X  Y  predicted\n",
            "0  United Arab Emirates Saatall Aas yal) alley \\u...  0          1\n",
            "1  \\u2018DELIVERY ORDER\\n\\nGenerated using Dubai ...  0          1\n"
          ]
        }
      ]
    },
    {
      "cell_type": "code",
      "source": [
        "import pandas as pd\n",
        "import re\n",
        "from sklearn.feature_extraction.text import TfidfVectorizer\n",
        "from sklearn.tree import DecisionTreeClassifier, export_text, plot_tree\n",
        "from sklearn.pipeline import Pipeline\n",
        "from sklearn.model_selection import train_test_split\n",
        "import matplotlib.pyplot as plt\n",
        "\n",
        "# Load your data\n",
        "df = pd.read_csv(\"Commercial Doc Classification data.csv\")\n",
        "\n",
        "# Clean text function\n",
        "def clean_text(text):\n",
        "    text = text.lower()\n",
        "    text = re.sub(r\"\\\\n\", \" \", text)\n",
        "    text = re.sub(r\"\\\\u[\\dA-Fa-f]+\", \" \", text)\n",
        "    text = re.sub(r\"[^\\w\\s]\", \" \", text)\n",
        "    text = re.sub(r\"\\d+\", \" \", text)\n",
        "    text = re.sub(r\"\\s+\", \" \", text).strip()\n",
        "    return text\n",
        "\n",
        "# Apply cleaning\n",
        "df[\"cleaned_text\"] = df[\"X\"].apply(clean_text)\n",
        "X = df[\"cleaned_text\"]\n",
        "y = df[\"Y\"]\n",
        "\n",
        "# Train/test split\n",
        "X_train, X_test, y_train, y_test = train_test_split(X, y, test_size=0.2, random_state=42)\n",
        "\n",
        "# TF-IDF + Decision Tree pipeline\n",
        "pipeline = Pipeline([\n",
        "    (\"tfidf\", TfidfVectorizer(max_features=50, stop_words=\"english\")),\n",
        "    (\"clf\", DecisionTreeClassifier(max_depth=5, random_state=42))\n",
        "])\n",
        "\n",
        "# Train\n",
        "pipeline.fit(X_train, y_train)\n",
        "\n",
        "# Export rules\n",
        "vectorizer = pipeline.named_steps[\"tfidf\"]\n",
        "classifier = pipeline.named_steps[\"clf\"]\n",
        "feature_names = vectorizer.get_feature_names_out()\n",
        "rules_text = export_text(classifier, feature_names=list(feature_names))\n",
        "print(rules_text)"
      ],
      "metadata": {
        "colab": {
          "base_uri": "https://localhost:8080/"
        },
        "id": "mWDNHlb3h8Xi",
        "outputId": "64cff7e1-f00d-4a2f-87cc-bfd8bdb76a8c"
      },
      "execution_count": null,
      "outputs": [
        {
          "output_type": "stream",
          "name": "stdout",
          "text": [
            "|--- port <= 0.13\n",
            "|   |--- class: 0\n",
            "|--- port >  0.13\n",
            "|   |--- class: 1\n",
            "\n"
          ]
        }
      ]
    },
    {
      "cell_type": "code",
      "source": [
        "plt.figure(figsize=(20, 10))\n",
        "plot_tree(classifier, feature_names=feature_names, class_names=[\"Non-Commercial\", \"Commercial\"], filled=True)\n",
        "plt.savefig(\"decision_tree_rules.png\", dpi=300)\n",
        "plt.show()"
      ],
      "metadata": {
        "colab": {
          "base_uri": "https://localhost:8080/",
          "height": 769
        },
        "id": "WD-QOhnEighy",
        "outputId": "29aaf5f6-932e-431a-dcf9-22f982bc97a7"
      },
      "execution_count": null,
      "outputs": [
        {
          "output_type": "display_data",
          "data": {
            "text/plain": [
              "<Figure size 2000x1000 with 1 Axes>"
            ],
            "image/png": "[encoded data removed]"
          },
          "metadata": {}
        }
      ]
    },
    {
      "cell_type": "code",
      "source": [
        "def convert_export_text_to_if_else(tree_text):\n",
        "    lines = tree_text.strip().split(\"\\n\")\n",
        "    indent_unit = \"    \"\n",
        "    code_lines = [\"def is_commercial_doc(features):\"]\n",
        "\n",
        "    for line in lines:\n",
        "        indent_level = line.count(\"|   \")\n",
        "        line = line.replace(\"|   \", \"\").replace(\"|--- \", \"\")\n",
        "        spacing = indent_unit * (indent_level + 1)\n",
        "\n",
        "        if \"<=\" in line or \">\" in line:\n",
        "            feature, condition = line.split(\" <= \" if \"<=\" in line else \" > \")\n",
        "            op = \"<=\" if \"<=\" in line else \">\"\n",
        "            code_lines.append(f\"{spacing}if features['{feature.strip()}'] {op} {condition.strip()}:\")\n",
        "        elif \"class:\" in line:\n",
        "            label = line.split(\"class:\")[1].strip()\n",
        "            code_lines.append(f\"{spacing}return {label}  # {'Commercial' if label == '1' else 'Non-Commercial'}\")\n",
        "\n",
        "    return \"\\n\".join(code_lines)"
      ],
      "metadata": {
        "id": "4NVb5-cRijOB"
      },
      "execution_count": null,
      "outputs": []
    },
    {
      "cell_type": "code",
      "source": [
        "tree_as_text = export_text(classifier, feature_names=list(feature_names))\n",
        "print(convert_export_text_to_if_else(tree_as_text))"
      ],
      "metadata": {
        "colab": {
          "base_uri": "https://localhost:8080/"
        },
        "id": "b8f9wMT7irCi",
        "outputId": "6e5d30ac-9e73-4d4f-cd14-d88216f84929"
      },
      "execution_count": null,
      "outputs": [
        {
          "output_type": "stream",
          "name": "stdout",
          "text": [
            "def is_commercial_doc(features):\n",
            "    if features['port'] <= 0.13:\n",
            "        return 0  # Non-Commercial\n",
            "    if features['port'] > 0.13:\n",
            "        return 1  # Commercial\n"
          ]
        }
      ]
    },
    {
      "cell_type": "code",
      "source": [],
      "metadata": {
        "id": "QZ4ROZBdl8_w"
      },
      "execution_count": null,
      "outputs": []
    },
    {
      "cell_type": "code",
      "source": [],
      "metadata": {
        "id": "bwJUxppMl88o"
      },
      "execution_count": null,
      "outputs": []
    },
    {
      "cell_type": "code",
      "source": [],
      "metadata": {
        "id": "q46IjfxNl844"
      },
      "execution_count": null,
      "outputs": []
    },
    {
      "cell_type": "code",
      "source": [],
      "metadata": {
        "id": "zxsI2InNl81Z"
      },
      "execution_count": null,
      "outputs": []
    },
    {
      "cell_type": "markdown",
      "source": [
        "# 1. Training & Saving (train_and_export.py)"
      ],
      "metadata": {
        "id": "1u6c5NSHl72p"
      }
    },
    {
      "cell_type": "code",
      "source": [
        "import pandas as pd\n",
        "import re\n",
        "from sklearn.feature_extraction.text import TfidfVectorizer\n",
        "from sklearn.tree import DecisionTreeClassifier, export_text\n",
        "from sklearn.model_selection import train_test_split\n",
        "import joblib\n",
        "\n",
        "# Text cleanup function\n",
        "def clean_text(text):\n",
        "    text = text.lower()\n",
        "    text = re.sub(r\"[^\\w\\s]\", \" \", text)\n",
        "    text = re.sub(r\"\\d+\", \" \", text)\n",
        "    text = re.sub(r\"\\s+\", \" \", text).strip()\n",
        "    return text\n",
        "\n",
        "# Load data\n",
        "df = pd.read_csv(\"Commercial Doc Classification data.csv\")\n",
        "df[\"cleaned_text\"] = df[\"X\"].apply(clean_text)\n",
        "\n",
        "X = df[\"cleaned_text\"]\n",
        "y = df[\"Y\"]\n",
        "\n",
        "# Train/test split with stratification\n",
        "# ValueError: The least populated class in y has only 1 member, which is too few. The minimum number of groups for any class cannot be less than 2.\n",
        "# X_train, _, y_train, _ = train_test_split(X, y, test_size=0.2, random_state=42, stratify=y)\n",
        "X_train, _, y_train, _ = train_test_split(X, y, test_size=0.2, random_state=42)\n",
        "\n",
        "# TF-IDF + vectorization\n",
        "vectorizer = TfidfVectorizer(max_features=50, stop_words=\"english\")\n",
        "X_train_vec = vectorizer.fit_transform(X_train)\n",
        "\n",
        "# Decision tree with class balancing\n",
        "clf = DecisionTreeClassifier(max_depth=3, class_weight=\"balanced\", random_state=42)\n",
        "clf.fit(X_train_vec, y_train)\n",
        "\n",
        "# Save vectorizer and model\n",
        "joblib.dump(vectorizer, \"tfidf_vectorizer.joblib\")\n",
        "joblib.dump(clf, \"decision_tree_model.joblib\")\n",
        "\n",
        "# Extract feature names\n",
        "feature_names = vectorizer.get_feature_names_out()\n",
        "\n",
        "# Function to auto-generate if-else rules\n",
        "def convert_export_text_to_if_else(tree_text):\n",
        "    lines = tree_text.strip().split(\"\\n\")\n",
        "    indent_unit = \"    \"\n",
        "    code_lines = [\"def is_commercial_doc(features):\"]\n",
        "\n",
        "    for line in lines:\n",
        "        indent_level = line.count(\"|   \")\n",
        "        line = line.replace(\"|   \", \"\").replace(\"|--- \", \"\")\n",
        "        spacing = indent_unit * (indent_level + 1)\n",
        "\n",
        "        if \"<=\" in line or \">\" in line:\n",
        "            feature, condition = line.split(\" <= \" if \"<=\" in line else \" > \")\n",
        "            op = \"<=\" if \"<=\" in line else \">\"\n",
        "            code_lines.append(f\"{spacing}if features['{feature.strip()}'] {op} {condition.strip()}:\")\n",
        "        elif \"class:\" in line:\n",
        "            label = line.split(\"class:\")[1].strip()\n",
        "            code_lines.append(f\"{spacing}return {label}  # {'Commercial' if label == '1' else 'Non-Commercial'}\")\n",
        "\n",
        "    return \"\\n\".join(code_lines)\n",
        "\n",
        "# Extract rule as Python function\n",
        "tree_code = export_text(clf, feature_names=list(feature_names))\n",
        "if_else_code = convert_export_text_to_if_else(tree_code)\n",
        "\n",
        "# Save rule\n",
        "with open(\"commercial_rule.py\", \"w\") as f:\n",
        "    f.write(if_else_code)\n",
        "\n",
        "print(\"✅ Model trained with class balancing and rule saved to 'commercial_rule.py'\")\n"
      ],
      "metadata": {
        "colab": {
          "base_uri": "https://localhost:8080/"
        },
        "id": "0bl9GKRNl8N4",
        "outputId": "9af4b02b-730a-4123-8162-87dc8943870c"
      },
      "execution_count": 25,
      "outputs": [
        {
          "output_type": "stream",
          "name": "stdout",
          "text": [
            "✅ Model trained with class balancing and rule saved to 'commercial_rule.py'\n"
          ]
        }
      ]
    },
    {
      "cell_type": "markdown",
      "source": [
        "# 2. Production Inference (predict_from_ocr.py)"
      ],
      "metadata": {
        "id": "tNeU0EfgmJ_3"
      }
    },
    {
      "cell_type": "code",
      "source": [
        "# predict_from_ocr.py\n",
        "\n",
        "import joblib\n",
        "import re\n",
        "from commercial_rule import is_commercial_doc  # auto-generated\n",
        "\n",
        "# Load saved vectorizer\n",
        "vectorizer = joblib.load(\"tfidf_vectorizer.joblib\")\n",
        "\n",
        "def clean_text(text):\n",
        "    text = text.lower()\n",
        "    text = re.sub(r\"[^\\w\\s]\", \" \", text)\n",
        "    text = re.sub(r\"\\d+\", \" \", text)\n",
        "    text = re.sub(r\"\\s+\", \" \", text).strip()\n",
        "    return text\n",
        "\n",
        "def get_feature_vector(text):\n",
        "    cleaned = clean_text(text)\n",
        "    vector = vectorizer.transform([cleaned])\n",
        "    feature_names = vectorizer.get_feature_names_out()\n",
        "    return {name: vector[0, idx] for idx, name in enumerate(feature_names)}\n",
        "\n",
        "# Example usage\n",
        "ocr_text = \"Port of Hamburg and shipment note inside.\"\n",
        "features = get_feature_vector(ocr_text)\n",
        "prediction = is_commercial_doc(features)\n",
        "\n",
        "print(\"Prediction:\", \"Commercial\" if prediction == 1 else \"Non-Commercial\")"
      ],
      "metadata": {
        "colab": {
          "base_uri": "https://localhost:8080/"
        },
        "id": "ZrM_p1HKjEQp",
        "outputId": "5e060b8d-1d6c-4521-d690-505aaf13caee"
      },
      "execution_count": 26,
      "outputs": [
        {
          "output_type": "stream",
          "name": "stdout",
          "text": [
            "Prediction: Non-Commercial\n"
          ]
        }
      ]
    },
    {
      "cell_type": "markdown",
      "source": [
        "##✅ Benefits of This Setup\n",
        "- 🔄 Fully automatic: No manual threshold writing\n",
        "\n",
        "- 🔒 Consistent: Uses your trained model’s actual logic\n",
        "\n",
        "- 🪶 Lightweight: Doesn’t require model loading at runtime, just the if-else file\n",
        "\n",
        "- 🏭 Production-ready: No dependency on scikit-learn in real-time if you just use the rule"
      ],
      "metadata": {
        "id": "7Pv5_87qoCNi"
      }
    },
    {
      "cell_type": "code",
      "source": [],
      "metadata": {
        "id": "yACcMcqXmOow"
      },
      "execution_count": null,
      "outputs": []
    }
  ]
}